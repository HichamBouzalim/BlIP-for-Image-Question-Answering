{
 "cells": [
  {
   "cell_type": "code",
   "execution_count": 8,
   "id": "4ac4c718",
   "metadata": {},
   "outputs": [],
   "source": [
    "import requests\n",
    "from PIL import Image\n",
    "from transformers import BlipProcessor, BlipForConditionalGeneration"
   ]
  },
  {
   "cell_type": "code",
   "execution_count": 2,
   "id": "8d20f37c",
   "metadata": {},
   "outputs": [
    {
     "name": "stderr",
     "output_type": "stream",
     "text": [
      "Using a slow image processor as `use_fast` is unset and a slow processor was saved with this model. `use_fast=True` will be the default behavior in v4.52, even if the model was saved with a slow processor. This will result in minor differences in outputs. You'll still be able to use a slow processor with `use_fast=False`.\n"
     ]
    }
   ],
   "source": [
    "# Load BLIP processor and model\n",
    "processor = BlipProcessor.from_pretrained(\"Salesforce/blip-image-captioning-large\")\n",
    "model = BlipForConditionalGeneration.from_pretrained(\"Salesforce/blip-image-captioning-large\")"
   ]
  },
  {
   "cell_type": "code",
   "execution_count": null,
   "id": "69d38cec",
   "metadata": {},
   "outputs": [],
   "source": [
    "# The processor prepares the image and question for the VQA model\n",
    "processor = BlipProcessor.from_pretrained(\"Salesforce/blip-vqa-large\")\n",
    "\n",
    "# The model is trained for Visual Question Answering tasks\n",
    "# It can answer questions about objects, actions, locations, and yes/no questions\n",
    "model = BlipForQuestionAnswering.from_pretrained(\"Salesforce/blip-vqa-large\")"
   ]
  },
  {
   "cell_type": "code",
   "execution_count": null,
   "id": "45038522",
   "metadata": {},
   "outputs": [],
   "source": [
    "img_url = 'https://github.com/HichamBouzalim/BLIP-for-image-captioning/blob/main/Picture.jpg?raw=true'\n"
   ]
  },
  {
   "cell_type": "code",
   "execution_count": 11,
   "id": "196192f5",
   "metadata": {},
   "outputs": [],
   "source": [
    "response = requests.get(img_url)\n",
    "response.raise_for_status() "
   ]
  },
  {
   "cell_type": "code",
   "execution_count": 3,
   "id": "4f0b9403",
   "metadata": {},
   "outputs": [],
   "source": [
    "# Image URL \n",
    "img_url = 'https://github.com/HichamBouzalim/BLIP-for-image-captioning/blob/main/Picture.jpg?raw=true'\n",
    "raw_image = Image.open(requests.get(img_url, stream=True).raw).convert('RGB')"
   ]
  },
  {
   "cell_type": "code",
   "execution_count": 4,
   "id": "588b9559",
   "metadata": {},
   "outputs": [],
   "source": [
    "# Specify the question you want to ask about the image\n",
    "question = \"Describe to me who is in the picture?\""
   ]
  },
  {
   "cell_type": "code",
   "execution_count": null,
   "id": "5296f321",
   "metadata": {},
   "outputs": [],
   "source": [
    "# Use the processor to prepare inputs for VQA (image + question)\n",
    "inputs = processor(raw_image, question, return_tensors=\"pt\")\n"
   ]
  },
  {
   "cell_type": "code",
   "execution_count": 6,
   "id": "03fe22ff",
   "metadata": {},
   "outputs": [],
   "source": [
    "# Generate the answer from the model\n",
    "out = model.generate(**inputs)"
   ]
  },
  {
   "cell_type": "code",
   "execution_count": 7,
   "id": "88738c7b",
   "metadata": {},
   "outputs": [
    {
     "name": "stdout",
     "output_type": "stream",
     "text": [
      "Answer: describe to me who is in the picture?\n"
     ]
    }
   ],
   "source": [
    "# Decode and print the answer to the question\n",
    "answer = processor.decode(out[0], skip_special_tokens=True)\n",
    "print(f\"Answer: {answer}\")"
   ]
  },
  {
   "cell_type": "code",
   "execution_count": null,
   "id": "fbd567c3",
   "metadata": {},
   "outputs": [],
   "source": []
  }
 ],
 "metadata": {
  "kernelspec": {
   "display_name": "BLIP",
   "language": "python",
   "name": "python3"
  },
  "language_info": {
   "codemirror_mode": {
    "name": "ipython",
    "version": 3
   },
   "file_extension": ".py",
   "mimetype": "text/x-python",
   "name": "python",
   "nbconvert_exporter": "python",
   "pygments_lexer": "ipython3",
   "version": "3.11.13"
  }
 },
 "nbformat": 4,
 "nbformat_minor": 5
}
